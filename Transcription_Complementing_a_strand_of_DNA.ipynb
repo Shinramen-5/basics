{
  "nbformat": 4,
  "nbformat_minor": 0,
  "metadata": {
    "colab": {
      "provenance": [],
      "authorship_tag": "ABX9TyMB3w7sfdes4j6y1GVpJ2wU",
      "include_colab_link": true
    },
    "kernelspec": {
      "name": "python3",
      "display_name": "Python 3"
    },
    "language_info": {
      "name": "python"
    }
  },
  "cells": [
    {
      "cell_type": "markdown",
      "metadata": {
        "id": "view-in-github",
        "colab_type": "text"
      },
      "source": [
        "<a href=\"https://colab.research.google.com/github/Shinramen-5/basics/blob/main/Transcription_Complementing_a_strand_of_DNA.ipynb\" target=\"_parent\"><img src=\"https://colab.research.google.com/assets/colab-badge.svg\" alt=\"Open In Colab\"/></a>"
      ]
    },
    {
      "cell_type": "code",
      "source": [
        "from typing import ItemsView\n",
        "def countNucFrequency(seq):\n",
        "  tmpFreqDict = {\"A\": 0 , \"C\": 0 , \"G\": 0 , \"T\": 0}\n",
        "  for nuc in seq:\n",
        "      tmpFreqDict[nuc] += 1\n",
        "  return tmpFreqDict\n",
        "\n",
        "DNAString =\"AGCTTTTCATTCTGACTGCAACGGGCAATATGTCTCTGTGTGGATTAAAAAAAGAGTGTCTGATAGCAGC\"\n",
        "result = countNucFrequency(DNAString)\n",
        "print(''.join ([str(val) for key, val in result.items()]))\n"
      ],
      "metadata": {
        "colab": {
          "base_uri": "https://localhost:8080/"
        },
        "id": "-OLD0sDQh398",
        "outputId": "f98d4982-94eb-4c8a-cd48-043f7dd9d4f5"
      },
      "execution_count": 10,
      "outputs": [
        {
          "output_type": "stream",
          "name": "stdout",
          "text": [
            "20121721\n"
          ]
        }
      ]
    },
    {
      "cell_type": "code",
      "source": [
        "import collections\n",
        "Nucleotides = [\"A\" , \"C\" , \"G\", \"T\"]\n",
        "DNA_ReverseComplement = {'A':'T', 'T':'A', 'G':'C', 'C' :'G'}\n",
        "def validate(dna_seq):\n",
        "     tmpseq = dna_seq.upper()\n",
        "     for nuc in tmpseq:\n",
        "          if nuc not in Nucleotides:\n",
        "              return False\n",
        "     return tmpseq\n",
        "\n",
        "def countNucFrequency(seq):\n",
        "    tmpFreqDict = {\"A\": 0, \"C\": 0, \"G\": 0, \"T\":0 }\n",
        "    for nuc in seq:\n",
        "        tmpFreqDict[nuc] += 1\n",
        "    return tmpFreqDict\n",
        "    return dict(collections.Counter(seq))\n",
        "\n",
        "def transcripiton(seq):\n",
        "    return seq.replace(\"T\" , \"U\")\n",
        "def reverseComplement(seq):\n",
        "    return ''. join([DNA_ReverseComplement[nuc] for nuc in seq])[::-1]\n"
      ],
      "metadata": {
        "id": "R1y86-j9nLXW"
      },
      "execution_count": 10,
      "outputs": []
    },
    {
      "cell_type": "code",
      "source": [
        "def transcription(seq):\n",
        "  return seq.replace(\"T\" , \"U\")\n",
        "print(transcription(\"GATGGAACTTGACTACGTAAATT\"))\n"
      ],
      "metadata": {
        "colab": {
          "base_uri": "https://localhost:8080/"
        },
        "id": "OXUsUw2VnIkf",
        "outputId": "d4860949-67ea-4193-f795-110648a9ba0b"
      },
      "execution_count": 11,
      "outputs": [
        {
          "output_type": "stream",
          "name": "stdout",
          "text": [
            "GAUGGAACUUGACUACGUAAAUU\n"
          ]
        }
      ]
    },
    {
      "cell_type": "code",
      "source": [
        "DNA_ReverseComplement = {'A':'T', 'T':'A', 'G':'C', 'C' :'G'}\n",
        "def reverse_complement(seq):\n",
        "   return ''. join([DNA_ReverseComplement[nuc] for nuc in seq])[::-1]\n",
        "print(reverse_complement(\"AAAACCCGGT\"))"
      ],
      "metadata": {
        "colab": {
          "base_uri": "https://localhost:8080/"
        },
        "id": "BaYcTD_Wooqs",
        "outputId": "c4de6cd7-703f-4581-fbbe-7e2066db468c"
      },
      "execution_count": 12,
      "outputs": [
        {
          "output_type": "stream",
          "name": "stdout",
          "text": [
            "ACCGGGTTTT\n"
          ]
        }
      ]
    }
  ]
}
